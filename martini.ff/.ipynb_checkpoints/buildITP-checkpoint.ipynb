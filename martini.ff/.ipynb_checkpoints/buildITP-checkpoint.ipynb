{
 "cells": [
  {
   "cell_type": "code",
   "execution_count": 3,
   "metadata": {},
   "outputs": [],
   "source": [
    "lipidname = \"OIPC\"\n",
    "head = \"C P\"\n",
    "link = \"G G\"\n",
    "tail = \"CDCC CDDC\"\n",
    "\n",
    "membrane=\"test\"\n",
    "insane=\"../insane+SF.py\"\n",
    "mdparams=\"../test.mdp\"\n",
    "martinipath=\"../martini.ff\"\n",
    "\n",
    "# Cleaning up intermediate files from previous runs\n",
    "!rm -f *#*\n",
    "!rm -f *step*\n",
    "!rm -f {membrane}*"
   ]
  },
  {
   "cell_type": "code",
   "execution_count": 15,
   "metadata": {},
   "outputs": [
    {
     "name": "stdout",
     "output_type": "stream",
     "text": [
      "Create itp\n",
      "The Martini lipid itp generator version 0.6  Args are: -o martini_v2_omaralab.itp -alname OIPC -alhead 'C P' -allink 'G G' -altail 'CDCC CDDC'\n",
      "; X: 1.000 (1 lipids) Y: 1.000 (1 lipids)\n",
      "; 1 lipids in upper leaflet, 1 lipids in lower leaflet\n",
      "; NDX Solute 1 0\n",
      "; Charge of protein: 0.000000\n",
      "; NDX Membrane 1 19\n",
      "; Charge of membrane: 0.000000\n",
      "; Total charge: 0.000000\n",
      "; NDX Solvent 20 715\n",
      "; NDX System 1 715\n"
     ]
    }
   ],
   "source": [
    "print(\"Create itp\")\n",
    "!python lipid-martini-itp-v06.py -o martini_v2_omaralab.itp -alname {lipidname} -alhead '{head}' -allink '{link}' -altail '{tail}'\n",
    "\n",
    "!python2 {insane} -o {membrane}.gro -p {membrane}.top -d 0 -x 1 -y 1 -z 16 -sol PW -center -charge 0 -u {lipidname}:1 -l {lipidname}:1"
   ]
  },
  {
   "cell_type": "code",
   "execution_count": 25,
   "metadata": {},
   "outputs": [],
   "source": [
    "# use GMX to convert GRO file into a PDB\n",
    "output = !gmx editconf -f {membrane}.gro -o  {membrane}.pdb\n",
    "\n",
    "# create a file to automate rendering an image of the protein, \n",
    "# hide water molecules\n",
    "# rotate display to view protein \n",
    "# display projection Orthographic\n",
    "# setting \"bead\" style, \n",
    "# setting the background to white,\n",
    "# turning of fthe XYZ axes,  \n",
    "# and taking a snapshot \n",
    "\n",
    "with open(\"output.tcl\", \"w\") as file:\n",
    "    file.write(\"mol modselect 0 0 resname \"+lipidname+\"\\n\")\n",
    "    file.write(\"rotate x by 120\\n\")\n",
    "    file.write(\"rotate y by 90\\n\")\n",
    "    file.write(\"display projection Orthographic\\n\")\n",
    "    file.write(\"mol modstyle 0 0 VDW 1.000000 12.000000\\n\")\n",
    "    file.write(\"axes location Off\\n\")\n",
    "    file.write(\"color Display Background white\\n\")\n",
    "    file.write(\"scale by 4\\n\")\n",
    "    file.write(\"render snapshot image.tga {convert image.tga jpg:image.jpg; rm image.tga}\\n\")\n",
    "    file.write(\"exit\")\n",
    "    \n",
    "    \n",
    "    \n",
    "# run VMD to render the image \n",
    "output = !vmd {membrane}.pdb -e output.tcl \n",
    "\n",
    "# clean up temporary files\n",
    "#!rm output.tcl"
   ]
  },
  {
   "cell_type": "markdown",
   "metadata": {},
   "source": [
    "## Rendered membrane using Coarse grained beads\n",
    "<img src=\"./image.jpg\" alt=\"Rendered membrane containing {lipidname}\" width=\"400\"/>"
   ]
  },
  {
   "cell_type": "code",
   "execution_count": null,
   "metadata": {},
   "outputs": [],
   "source": []
  }
 ],
 "metadata": {
  "kernelspec": {
   "display_name": "Python 3",
   "language": "python",
   "name": "python3"
  },
  "language_info": {
   "codemirror_mode": {
    "name": "ipython",
    "version": 3
   },
   "file_extension": ".py",
   "mimetype": "text/x-python",
   "name": "python",
   "nbconvert_exporter": "python",
   "pygments_lexer": "ipython3",
   "version": "3.6.9"
  }
 },
 "nbformat": 4,
 "nbformat_minor": 4
}
